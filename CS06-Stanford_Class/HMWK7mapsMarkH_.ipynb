{
  "nbformat": 4,
  "nbformat_minor": 0,
  "metadata": {
    "colab": {
      "name": "HMWK7mapsMarkH .ipynb",
      "provenance": [],
      "collapsed_sections": [],
      "toc_visible": true,
      "include_colab_link": true
    },
    "kernelspec": {
      "name": "python3",
      "display_name": "Python 3"
    }
  },
  "cells": [
    {
      "cell_type": "markdown",
      "metadata": {
        "id": "view-in-github",
        "colab_type": "text"
      },
      "source": [
        "<a href=\"https://colab.research.google.com/github/thunderdog101/database/blob/main/HMWK7mapsMarkH_.ipynb\" target=\"_parent\"><img src=\"https://colab.research.google.com/assets/colab-badge.svg\" alt=\"Open In Colab\"/></a>"
      ]
    },
    {
      "cell_type": "markdown",
      "metadata": {
        "id": "XQ9ociLnQWzZ"
      },
      "source": [
        "**Notebook imports positions of settlements in Israel for mapping** "
      ]
    },
    {
      "cell_type": "code",
      "metadata": {
        "id": "42OwP9xGP9YL"
      },
      "source": [
        "import numpy as np\n",
        "import os\n",
        "import matplotlib.pyplot as plt\n",
        "import matplotlib.ticker as ticker\n",
        "from sklearn import datasets, linear_model\n",
        "from sklearn.decomposition import PCA\n",
        "from sklearn.preprocessing import MinMaxScaler\n",
        "from sklearn.manifold import TSNE\n",
        "import pandas as pd\n",
        "import altair as alt\n",
        "from matplotlib import pyplot as plt\n",
        "import seaborn as sns\n",
        "git_loc_db = 'https://raw.githubusercontent.com/thunderdog101/database/main/samples/Israel_Settlements.csv'\n",
        "df= pd.read_csv(git_loc_db)\n",
        "df.columns = df.columns.str.replace(' ','_')                                          # replace space with underscore"
      ],
      "execution_count": null,
      "outputs": []
    },
    {
      "cell_type": "code",
      "metadata": {
        "colab": {
          "base_uri": "https://localhost:8080/",
          "height": 203
        },
        "id": "R4UtFzfgYKbW",
        "outputId": "25e1b236-f000-468e-dc93-70de19d6e016"
      },
      "source": [
        "df.head()"
      ],
      "execution_count": null,
      "outputs": [
        {
          "output_type": "execute_result",
          "data": {
            "text/html": [
              "<div>\n",
              "<style scoped>\n",
              "    .dataframe tbody tr th:only-of-type {\n",
              "        vertical-align: middle;\n",
              "    }\n",
              "\n",
              "    .dataframe tbody tr th {\n",
              "        vertical-align: top;\n",
              "    }\n",
              "\n",
              "    .dataframe thead th {\n",
              "        text-align: right;\n",
              "    }\n",
              "</style>\n",
              "<table border=\"1\" class=\"dataframe\">\n",
              "  <thead>\n",
              "    <tr style=\"text-align: right;\">\n",
              "      <th></th>\n",
              "      <th>Name</th>\n",
              "      <th>Hebrew_Name</th>\n",
              "      <th>Year_Established</th>\n",
              "      <th>Regional_Council</th>\n",
              "      <th>Latitude</th>\n",
              "      <th>Longitude</th>\n",
              "      <th>West_Bank_Barrier</th>\n",
              "      <th>2015_Population</th>\n",
              "      <th>2010_Population</th>\n",
              "      <th>2005_Population</th>\n",
              "      <th>2000_Population</th>\n",
              "      <th>Unnamed:_11</th>\n",
              "    </tr>\n",
              "  </thead>\n",
              "  <tbody>\n",
              "    <tr>\n",
              "      <th>0</th>\n",
              "      <td>Adora</td>\n",
              "      <td>אדורה</td>\n",
              "      <td>1984</td>\n",
              "      <td>Har Hebron</td>\n",
              "      <td>31.5522</td>\n",
              "      <td>35.0189</td>\n",
              "      <td>East</td>\n",
              "      <td>404.0</td>\n",
              "      <td>240.0</td>\n",
              "      <td>206.0</td>\n",
              "      <td>271.0</td>\n",
              "      <td>NaN</td>\n",
              "    </tr>\n",
              "    <tr>\n",
              "      <th>1</th>\n",
              "      <td>Alei Zahav</td>\n",
              "      <td>עלי זהב</td>\n",
              "      <td>1982</td>\n",
              "      <td>Shomron</td>\n",
              "      <td>32.0717</td>\n",
              "      <td>35.0642</td>\n",
              "      <td>West</td>\n",
              "      <td>1300.0</td>\n",
              "      <td>498.0</td>\n",
              "      <td>684.0</td>\n",
              "      <td>391.0</td>\n",
              "      <td>NaN</td>\n",
              "    </tr>\n",
              "    <tr>\n",
              "      <th>2</th>\n",
              "      <td>Alfei Menashe</td>\n",
              "      <td>אלפי מנשה</td>\n",
              "      <td>1983</td>\n",
              "      <td>Shomron</td>\n",
              "      <td>32.1667</td>\n",
              "      <td>35.0167</td>\n",
              "      <td>West</td>\n",
              "      <td>7638.0</td>\n",
              "      <td>7079.0</td>\n",
              "      <td>5541.0</td>\n",
              "      <td>4580.0</td>\n",
              "      <td>NaN</td>\n",
              "    </tr>\n",
              "    <tr>\n",
              "      <th>3</th>\n",
              "      <td>Almog</td>\n",
              "      <td>אלמוג</td>\n",
              "      <td>1977</td>\n",
              "      <td>Megilot</td>\n",
              "      <td>31.7897</td>\n",
              "      <td>35.4611</td>\n",
              "      <td>East (Jordan Valley)</td>\n",
              "      <td>207.0</td>\n",
              "      <td>170.0</td>\n",
              "      <td>159.0</td>\n",
              "      <td>167.0</td>\n",
              "      <td>NaN</td>\n",
              "    </tr>\n",
              "    <tr>\n",
              "      <th>4</th>\n",
              "      <td>Almon (Anatot)</td>\n",
              "      <td>עלמון ענתות</td>\n",
              "      <td>1982</td>\n",
              "      <td>Binyamin</td>\n",
              "      <td>31.8317</td>\n",
              "      <td>35.2954</td>\n",
              "      <td>West</td>\n",
              "      <td>1286.0</td>\n",
              "      <td>893.0</td>\n",
              "      <td>762.0</td>\n",
              "      <td>698.0</td>\n",
              "      <td>NaN</td>\n",
              "    </tr>\n",
              "  </tbody>\n",
              "</table>\n",
              "</div>"
            ],
            "text/plain": [
              "             Name  Hebrew_Name  ...  2000_Population Unnamed:_11\n",
              "0           Adora        אדורה  ...            271.0         NaN\n",
              "1      Alei Zahav      עלי זהב  ...            391.0         NaN\n",
              "2   Alfei Menashe    אלפי מנשה  ...           4580.0         NaN\n",
              "3           Almog        אלמוג  ...            167.0         NaN\n",
              "4  Almon (Anatot)  עלמון ענתות  ...            698.0         NaN\n",
              "\n",
              "[5 rows x 12 columns]"
            ]
          },
          "metadata": {
            "tags": []
          },
          "execution_count": 2
        }
      ]
    },
    {
      "cell_type": "markdown",
      "metadata": {
        "id": "5gcKi5Sqf5J_"
      },
      "source": [
        "## **FOLIUM**"
      ]
    },
    {
      "cell_type": "markdown",
      "metadata": {
        "id": "BzIBETFWLe1O"
      },
      "source": [
        "**HTML code for icon popup display**"
      ]
    },
    {
      "cell_type": "code",
      "metadata": {
        "id": "xPJPhHrZeGVr"
      },
      "source": [
        "def fancy_html(row):   \n",
        "    i = row\n",
        "    \n",
        "    Name_of_Settlement = df['Name'].iloc[i]                           # contents of the popups shown here      \n",
        "    Year_Established = df['Year_Established'].iloc[i]                           \n",
        "    Regional_Council = df['Regional_Council'].iloc[i]\n",
        "    Year_2000_Population = df['2000_Population'].iloc[i]                                           \n",
        "    Year_2005_Population = df['2005_Population'].iloc[i]                               \n",
        "    Year_2010_Population = df['2010_Population'].iloc[i]   \n",
        "    Year_2015_Population = df['2015_Population'].iloc[i]                           \n",
        "    \n",
        "    left_col_colour = \"#2A799C\"\n",
        "    right_col_colour = \"#C5DCE7\"\n",
        "    \n",
        "    html = \"\"\"<!DOCTYPE html>\n",
        "<html>\n",
        "\n",
        "<head>\n",
        " \n",
        "\n",
        "</head>\n",
        "    <table style=\"height: 126px; width: 300px;\">\n",
        "<tbody>\n",
        "<tr>\n",
        "<td style=\"background-color: \"\"\"+ left_col_colour +\"\"\";\"><span style=\"color: #ffffff;\">Name_of_Settlement</span></td>\n",
        "<td style=\"width: 200px;background-color: \"\"\"+ right_col_colour +\"\"\";\">{}</td>\"\"\".format(Name_of_Settlement) + \"\"\"\n",
        "</tr>\n",
        "<tr>\n",
        "<td style=\"background-color: \"\"\"+ left_col_colour +\"\"\";\"><span style=\"color: #ffffff;\">Year_Established</span></td>\n",
        "<td style=\"width: 200px;background-color: \"\"\"+ right_col_colour +\"\"\";\">{}</td>\"\"\".format(Year_Established) + \"\"\"\n",
        "</tr>\n",
        "<tr>\n",
        "<td style=\"background-color: \"\"\"+ left_col_colour +\"\"\";\"><span style=\"color: #ffffff;\">Regional_Council</span></td>\n",
        "<td style=\"width: 200px;background-color: \"\"\"+ right_col_colour +\"\"\";\">{}</td>\"\"\".format(Regional_Council) + \"\"\"\n",
        "</tr>\n",
        "<tr>\n",
        "<td style=\"background-color: \"\"\"+ left_col_colour +\"\"\";\"><span style=\"color: #ffffff;\">Year_2000_Population</span></td>\n",
        "<td style=\"width: 200px;background-color: \"\"\"+ right_col_colour +\"\"\";\">{}</td>\"\"\".format(Year_2005_Population) + \"\"\"\n",
        "</tr>\n",
        "<tr>\n",
        "<td style=\"background-color: \"\"\"+ left_col_colour +\"\"\";\"><span style=\"color: #ffffff;\">Year_2010_Population</span></td>\n",
        "<td style=\"width: 200px;background-color: \"\"\"+ right_col_colour +\"\"\";\">{}</td>\"\"\".format(Year_2010_Population) + \"\"\"\n",
        "</tr>\n",
        "<tr>\n",
        "<td style=\"background-color: \"\"\"+ left_col_colour +\"\"\";\"><span style=\"color: #ffffff;\">Year_2015_Population</span></td>\n",
        "<td style=\"width: 200px;background-color: \"\"\"+ right_col_colour +\"\"\";\">{}</td>\"\"\".format(Year_2015_Population) + \"\"\"\n",
        "</tr>\n",
        "</tbody>\n",
        "</table>\n",
        "</html>\n",
        "\"\"\"\n",
        "    return html"
      ],
      "execution_count": null,
      "outputs": []
    },
    {
      "cell_type": "code",
      "metadata": {
        "id": "YWpNmirG81c6"
      },
      "source": [
        "# from google.colab import drive\n",
        "# drive.mount('/content/drive')"
      ],
      "execution_count": null,
      "outputs": []
    },
    {
      "cell_type": "code",
      "metadata": {
        "id": "uHwd2ySrYGvY"
      },
      "source": [
        "import folium                                                                            # displays map of Israel with settlement positions\n",
        "from folium import plugins\n",
        "import branca                                                                             # branca adds non-map specific features\n",
        "                                                                                          \n",
        "coords = df[['Latitude' , 'Longitude']]\n",
        "locationlist = coords.values.tolist()\n",
        "\n",
        "m = folium.Map(location=[31.6584, 35.0884], zoom_start=9)\n",
        "marker_cluster = folium.plugins.marker_cluster.MarkerCluster().add_to(m)                  # create clusters of the position icons\n",
        "\n",
        "for point in range(0, len(locationlist)):\n",
        "    html = fancy_html(point)                                                        # fancy_html uses function to organized popup display\n",
        "    iframe = branca.element.IFrame(html=html, width=400,height=300)\n",
        "    popup = folium.Popup(iframe,parse_html=True)\n",
        "    folium.Marker([df['Latitude'].iloc[point],df['Longitude'].iloc[point]],               # place markers at each settlement location\n",
        "    popup=popup,icon=folium.Icon(color='blue', icon='info-sign')).add_to(marker_cluster)  # icon formatting & add the clustering\n",
        "\n",
        "folium.TileLayer('stamenterrain').add_to(m)                                               # various tiles to try\n",
        "folium.TileLayer('OpenStreetMap').add_to(m)\n",
        "folium.TileLayer('Mapbox Control Room').add_to(m)\n",
        "folium.LayerControl().add_to(m)                                                           # create legend to change tiles\n",
        "m.add_child(folium.LatLngPopup())                                                     # click anywhere on map for GPS coordinates popup\n",
        "\n",
        "# m.save(outfile= 'mapCluster.html')                                                      # saves map in html format\n",
        "m"
      ],
      "execution_count": null,
      "outputs": []
    },
    {
      "cell_type": "code",
      "metadata": {
        "id": "6w0ko5JcQJVt"
      },
      "source": [
        "# m.add_child(plugins.HeatMap(df_lat_lng))\n",
        "# m.add_child(folium.LatLngPopup())\n",
        "# m                                                             # prints heat map of Israel for positions of each settlement"
      ],
      "execution_count": null,
      "outputs": []
    }
  ]
}