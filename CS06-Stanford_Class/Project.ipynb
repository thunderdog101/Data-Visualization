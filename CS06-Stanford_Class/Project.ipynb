{
  "nbformat": 4,
  "nbformat_minor": 0,
  "metadata": {
    "colab": {
      "name": "Project.ipynb",
      "provenance": [],
      "collapsed_sections": []
    },
    "kernelspec": {
      "name": "python3",
      "display_name": "Python 3"
    }
  },
  "cells": [
    {
      "cell_type": "code",
      "metadata": {
        "id": "tH5tHU4ByrAQ"
      },
      "source": [
        "# importing packages\n",
        "import numpy as np\n",
        "import os\n",
        "import matplotlib.pyplot as plt\n",
        "import pandas as pd\n",
        "import statsmodels.api as sm\n",
        "import seaborn as sns\n",
        "import altair as alt"
      ],
      "execution_count": 5,
      "outputs": []
    },
    {
      "cell_type": "code",
      "metadata": {
        "id": "2Khx92ivz2hI"
      },
      "source": [
        "git_loc_db = 'https://raw.githubusercontent.com/thunderdog101/database/main/SpeedDatingData/Speed_Dating_Data.csv'\n",
        "df= pd.read_csv(git_loc_db)\n",
        "# df.columns = df.columns.str.replace(' ','_')                                          # replace space with underscore"
      ],
      "execution_count": null,
      "outputs": []
    }
  ]
}